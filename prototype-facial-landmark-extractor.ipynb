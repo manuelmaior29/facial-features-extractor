{
 "cells": [
  {
   "cell_type": "code",
   "execution_count": 2,
   "metadata": {},
   "outputs": [],
   "source": [
    "import dlib\n",
    "import cv2"
   ]
  },
  {
   "cell_type": "code",
   "execution_count": 3,
   "metadata": {},
   "outputs": [],
   "source": [
    "detector = dlib.get_frontal_face_detector()\n",
    "predictor = dlib.shape_predictor(\"models/shape_predictor_68_face_landmarks.dat\")"
   ]
  },
  {
   "cell_type": "code",
   "execution_count": 4,
   "metadata": {},
   "outputs": [],
   "source": [
    "input_image = cv2.imread(\"sample.jpg\")"
   ]
  },
  {
   "cell_type": "code",
   "execution_count": 5,
   "metadata": {},
   "outputs": [],
   "source": [
    "gray = cv2.cvtColor(input_image, cv2.COLOR_BGR2GRAY)"
   ]
  },
  {
   "cell_type": "code",
   "execution_count": 6,
   "metadata": {},
   "outputs": [],
   "source": [
    "faces = detector(gray)"
   ]
  },
  {
   "cell_type": "code",
   "execution_count": 7,
   "metadata": {},
   "outputs": [
    {
     "data": {
      "text/plain": [
       "True"
      ]
     },
     "execution_count": 7,
     "metadata": {},
     "output_type": "execute_result"
    }
   ],
   "source": [
    "import numpy as np\n",
    "blank_image = np.zeros(input_image.shape, np.uint8)\n",
    "\n",
    "for face in faces:\n",
    "    # Get the facial landmarks for the detected face\n",
    "    landmarks = predictor(gray, face)\n",
    "\n",
    "    # Loop through the landmarks and extract their (x, y) coordinates\n",
    "    for i in range(68):  # There are 68 landmarks in the model\n",
    "        x, y = landmarks.part(i).x, landmarks.part(i).y\n",
    "\n",
    "        # Draw a point on the image at each landmark\n",
    "        cv2.circle(blank_image, (x, y), 5, (0, 255, 0), -1)\n",
    "\n",
    "# Save or display the image with landmarks\n",
    "cv2.imwrite(\"output_image.jpg\", blank_image)"
   ]
  }
 ],
 "metadata": {
  "kernelspec": {
   "display_name": "facial_features_extractor",
   "language": "python",
   "name": "python3"
  },
  "language_info": {
   "codemirror_mode": {
    "name": "ipython",
    "version": 3
   },
   "file_extension": ".py",
   "mimetype": "text/x-python",
   "name": "python",
   "nbconvert_exporter": "python",
   "pygments_lexer": "ipython3",
   "version": "3.8.18"
  },
  "orig_nbformat": 4
 },
 "nbformat": 4,
 "nbformat_minor": 2
}
